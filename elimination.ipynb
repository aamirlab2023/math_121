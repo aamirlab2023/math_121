{
 "cells": [
  {
   "cell_type": "code",
   "execution_count": 8,
   "id": "437d5ded-00d9-4a10-b753-cf59af854f6f",
   "metadata": {},
   "outputs": [],
   "source": [
    "import numpy as np"
   ]
  },
  {
   "cell_type": "code",
   "execution_count": 9,
   "id": "b7ad1641-3db2-4411-8027-6a7efb0f701c",
   "metadata": {},
   "outputs": [
    {
     "name": "stdout",
     "output_type": "stream",
     "text": [
      "[[  1   2   3]\n",
      " [  0   1  -4]\n",
      " [  0 -15 -17]]\n"
     ]
    }
   ],
   "source": [
    "x = np.array([[1, 0, 0], [-2, 1, 0], [-6, 0, 1]])\n",
    "y = np.array([[1, 2, 3], [2, 5, 2], [6, -3, 1]])\n",
    "z = np.matmul(x, y)\n",
    "print(z)"
   ]
  },
  {
   "cell_type": "code",
   "execution_count": 10,
   "id": "245e7766-3aa0-46f8-a6c0-4d3fc7e37a39",
   "metadata": {},
   "outputs": [
    {
     "name": "stdout",
     "output_type": "stream",
     "text": [
      "[[  1   2   3]\n",
      " [  0   1  -4]\n",
      " [  0   0 -77]]\n"
     ]
    }
   ],
   "source": [
    "x = np.array([[1, 0, 0], [0, 1, 0], [0, 15, 1]])\n",
    "y = np.array([[1, 2, 3], [0, 1, -4], [0, -15, -17]])\n",
    "z = np.matmul(x, y)\n",
    "print(z)"
   ]
  },
  {
   "cell_type": "code",
   "execution_count": 11,
   "id": "ca9a2227-000d-4312-af1b-52b07ca44a78",
   "metadata": {},
   "outputs": [
    {
     "name": "stdout",
     "output_type": "stream",
     "text": [
      "[[  1   0   0]\n",
      " [ -2   1   0]\n",
      " [-36  15   1]]\n"
     ]
    }
   ],
   "source": [
    "x = np.array([[1, 0, 0], [0, 1, 0], [0, 15, 1]])\n",
    "y = np.array([[1, 0, 0], [-2, 1, 0], [-6, 0, 1]])\n",
    "z = np.matmul(x, y)\n",
    "print(z)"
   ]
  },
  {
   "cell_type": "code",
   "execution_count": 12,
   "id": "f1c493ba-fa28-435f-be8f-c84d9c87099f",
   "metadata": {},
   "outputs": [
    {
     "name": "stdout",
     "output_type": "stream",
     "text": [
      "[[  1   2   3]\n",
      " [  0   1  -4]\n",
      " [  0   0 -77]]\n"
     ]
    }
   ],
   "source": [
    "x = np.array([[1, 0, 0], [-2, 1, 0], [-36, 15, 1]])\n",
    "y = np.array([[1, 2, 3], [2, 5, 2], [6, -3, 1]])\n",
    "z = np.matmul(x, y)\n",
    "print(z)"
   ]
  }
 ],
 "metadata": {
  "kernelspec": {
   "display_name": "Python 3 (ipykernel)",
   "language": "python",
   "name": "python3"
  },
  "language_info": {
   "codemirror_mode": {
    "name": "ipython",
    "version": 3
   },
   "file_extension": ".py",
   "mimetype": "text/x-python",
   "name": "python",
   "nbconvert_exporter": "python",
   "pygments_lexer": "ipython3",
   "version": "3.12.2"
  }
 },
 "nbformat": 4,
 "nbformat_minor": 5
}
